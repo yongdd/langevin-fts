{
 "cells": [
  {
   "cell_type": "markdown",
   "id": "7df8488f",
   "metadata": {},
   "source": [
    "# Mixture of AB Diblock Copolymers and A Hompolymers in Potential Fields\n",
    "\n",
    "This script demonstrates how to compute single partition functions and concentrations of a mixture of AB diblock copolymers and A hompolymers for given potential fields.\n",
    "\n",
    "### 1. Import python modules and set environment variables"
   ]
  },
  {
   "cell_type": "code",
   "execution_count": 48,
   "id": "11225565",
   "metadata": {},
   "outputs": [],
   "source": [
    "import os\n",
    "import numpy as np\n",
    "import matplotlib.pyplot as plt\n",
    "import matplotlib.cm as cm\n",
    "import polymerfts\n",
    "\n",
    "# OpenMP environment variables\n",
    "os.environ[\"MKL_NUM_THREADS\"] = \"1\"  # always 1\n",
    "os.environ[\"OMP_STACKSIZE\"] = \"1G\"\n",
    "os.environ[\"OMP_MAX_ACTIVE_LEVELS\"] = \"1\"  # 0, 1\n",
    "os.environ[\"OMP_NUM_THREADS\"] = \"2\"  # 1 ~ 4\n",
    "\n",
    "# GPU environment variables\n",
    "os.environ[\"LFTS_GPU_NUM_BLOCKS\"]  = \"256\"\n",
    "os.environ[\"LFTS_GPU_NUM_THREADS\"] = \"256\"\n",
    "os.environ[\"LFTS_NUM_GPUS\"] = \"1\" # 1 ~ 2"
   ]
  },
  {
   "cell_type": "markdown",
   "id": "db1273a8",
   "metadata": {},
   "source": [
    "### 2. Setup some simulation parameters\n",
    "\n",
    "\\begin{align}\n",
    "N &= 100 \\\\\n",
    "\\Delta s &= 1/N = 0.01 \\\\\n",
    "L_x &= 5.0 bN^{1/2} \\\\\n",
    "L_y &= 5.0 bN^{1/2} \\\\\n",
    "V &= L_x L_y \\\\ \n",
    "m_x &= 64 \\\\\n",
    "m_y &= 64 \\\\\n",
    "b_A/b &= 1.0 \\\\\n",
    "b_B/b &= 1.0 \\\\  \n",
    "\\end{align}\n",
    "\n",
    "In numerical computation, $b^2N = 1$."
   ]
  },
  {
   "cell_type": "code",
   "execution_count": 49,
   "id": "530564af",
   "metadata": {},
   "outputs": [],
   "source": [
    "# Simulation parameters\n",
    "nx = [64,64]                       # grid number\n",
    "lx = [5.0,5.0]                     # box size\n",
    "stat_seg_lengths = {\"A\":1.0,       # statistical segment lengths\n",
    "                    \"B\":1.0}        \n",
    "\n",
    "ds = 0.01                          # contour step interval"
   ]
  },
  {
   "cell_type": "markdown",
   "id": "e11e06aa",
   "metadata": {},
   "source": [
    "### 3. Create a factory with selected platform (\"cuda\" or \"cpu-mkl\") and data-type (\"real\" or \"complex\")\n",
    "* The factory will create the following instances for chosen platform and data-type.\n",
    "    * simulation_box\n",
    "    * molecules\n",
    "    * propagator_computation_optimizer\n",
    "    * solver"
   ]
  },
  {
   "cell_type": "code",
   "execution_count": 50,
   "id": "17ee3c5f",
   "metadata": {},
   "outputs": [
    {
     "name": "stdout",
     "output_type": "stream",
     "text": [
      "==================== MKL Version ====================\n",
      "Major version:           2021\n",
      "Minor version:           0\n",
      "Update version:          4\n",
      "Product status:          Product\n",
      "Build:                   20210904\n",
      "Platform:                Intel(R) 64 architecture\n",
      "Processor optimization:  Intel(R) Architecture processors\n",
      "================================================================\n"
     ]
    }
   ],
   "source": [
    "# Select platform (\"cuda\" or \"cpu-mkl\") for real-valued simulations\n",
    "reduce_gpu_memory_usage = False\n",
    "factory = polymerfts.PlatformSelector.create_factory(\"cpu-mkl\", reduce_gpu_memory_usage, \"real\")\n",
    "factory.display_info()"
   ]
  },
  {
   "cell_type": "code",
   "execution_count": 51,
   "id": "1d719123",
   "metadata": {},
   "outputs": [],
   "source": [
    "# Create an instance for computation box\n",
    "cb = factory.create_computation_box(nx, lx) \n",
    "# Create an instance for molecule information with block segment information and chain model (\"continuous\" or \"discrete\")\n",
    "molecules = factory.create_molecules_information(\"continuous\", ds, stat_seg_lengths)"
   ]
  },
  {
   "cell_type": "markdown",
   "id": "f7a12c76",
   "metadata": {},
   "source": [
    "### 4. Add A Hompolymers and AB Diblock copolymers\n",
    "\n",
    "Block lengths for A and B blocks are $f_A=0.5$ and $f_B=0.5$.\n",
    "\n",
    "The volume fractions of AB diblock copolymers and A Hompolymers are $\\bar{\\phi}_{0}=0.8$ and $\\bar{\\phi}_{1}=0.2$, respectively.\n",
    "\n",
    "Total segment lengths are $\\alpha_{0}=1.0$ and $\\alpha_{1}=0.5$, respectively."
   ]
  },
  {
   "cell_type": "code",
   "execution_count": 52,
   "id": "b90ac3df",
   "metadata": {},
   "outputs": [],
   "source": [
    "# Add AB diblock copolymers\n",
    "molecules.add_polymer(0.8, [[\"A\", 0.5, 0, 1], [\"B\", 0.5, 1, 2]])\n",
    "\n",
    "# Add A homopolymers\n",
    "molecules.add_polymer(0.2, [[\"A\", 0.5, 0, 1]])"
   ]
  },
  {
   "cell_type": "markdown",
   "id": "31bb5f7b",
   "metadata": {},
   "source": [
    "### 5. Analyze graphs and optimize the computations.\n",
    "\n",
    "Remove the redundent computations and aggregate propagators of multiple side chains. To understand the internal algorithm, read the following paper.\n",
    "\n",
    "[Dynamic Programming for Chain Propagator Computation of Branched Block Copolymers in Polymer Field Theory Simulations](https://doi.org/10.1021/acs.jctc.5c00103)"
   ]
  },
  {
   "cell_type": "code",
   "execution_count": 53,
   "id": "f8fe1b7e",
   "metadata": {},
   "outputs": [
    {
     "name": "stdout",
     "output_type": "stream",
     "text": [
      "--------------- Blocks ---------------\n",
      "Polymer id, left key:\n",
      "\taggregated, (left, right) is_junction, (left, right) n_segment, right key, n_repeat, {v, u} list\n",
      "\n",
      "0, A:\n",
      "\t X, (X, O), (50, 50), (B50)A, 1, {0,1}\n",
      "\n",
      "0, B:\n",
      "\t X, (X, O), (50, 50), (A50)B, 1, {2,1}\n",
      "\n",
      "1, A:\n",
      "\t X, (X, X), (50, 50), A, 1, {0,1}\n",
      "--------------- Propagators ---------------\n",
      "Key:\n",
      "\theight, aggregated, max_n_segment, # dependencies, junction_ends\n",
      "B:\n",
      "\t 0, X, 50, 0, {50}, \n",
      "A:\n",
      "\t 0, X, 50, 0, {50}, \n",
      "(B50)A:\n",
      "\t 1, X, 50, 1, {}, \n",
      "(A50)B:\n",
      "\t 1, X, 50, 1, {}, \n",
      "Total number of modified diffusion equation steps (time complexity) to compute propagators: 300\n",
      "Total number of steps after optimizing computation : 200\n",
      "Computational cost reduction (higher is better) : 33.33 %\n"
     ]
    }
   ],
   "source": [
    "# Optimizer to avoid redundant computations\n",
    "aggregate_propagator_computation = True\n",
    "propagator_computation_optimizer = factory.create_propagator_computation_optimizer(molecules, aggregate_propagator_computation)\n",
    "propagator_computation_optimizer.display_blocks()\n",
    "propagator_computation_optimizer.display_propagators()"
   ]
  },
  {
   "cell_type": "markdown",
   "id": "515522b8",
   "metadata": {},
   "source": [
    "### 5. Set Potential fields"
   ]
  },
  {
   "cell_type": "code",
   "execution_count": 54,
   "id": "dfa2b1d0",
   "metadata": {},
   "outputs": [
    {
     "data": {
      "image/png": "[encoded data removed]",
      "text/plain": [
       "<Figure size 576x288 with 3 Axes>"
      ]
     },
     "metadata": {
      "needs_background": "light"
     },
     "output_type": "display_data"
    }
   ],
   "source": [
    "w_A =  np.tile(np.sin(np.linspace(0, 2*np.pi, nx[0])), (nx[1], 1))   # sinusoidal potential field for A\n",
    "w_B = -np.tile(np.sin(np.linspace(0, 2*np.pi, nx[0])), (nx[1], 1))   # sinusoidal potential field for B\n",
    "w = {\"A\": w_A, \"B\": w_B}  # potential field dictionary\n",
    "\n",
    "# Plot each image with the same vmin and vmax\n",
    "vmin = min(w_A.min(), w_B.min())\n",
    "vmax = max(w_A.max(), w_B.max())\n",
    "\n",
    "fig, axes = plt.subplots(1, 2, figsize=(8, 4))\n",
    "fig.suptitle(\"Potential fields\")\n",
    "im = axes[0].imshow(w_A, extent=(0, lx[0], 0, lx[1]), cmap=cm.jet, vmin=vmin, vmax=vmax)\n",
    "im = axes[1].imshow(w_B, extent=(0, lx[0], 0, lx[1]), cmap=cm.jet, vmin=vmin, vmax=vmax)\n",
    "axes[0].set(title='w_A', xlabel='x', ylabel='y')\n",
    "axes[1].set(title='w_B', xlabel='x', ylabel='y')\n",
    "\n",
    "fig.subplots_adjust(right=1.0)\n",
    "fig.colorbar(im, ax=axes.ravel().tolist())\n",
    "fig.show()"
   ]
  },
  {
   "cell_type": "markdown",
   "id": "f92451e0",
   "metadata": {},
   "source": [
    "### 6. Solving the modified diffusion equations and compute single chain partition function\n",
    "\n",
    "The propagators for A-type block, $(p,v,t) \\in \\{(0,0,1),(0,1,0),(1,0,1),(1,1,0)\\}$ :\n",
    "\\begin{align}\n",
    "\\left[-\\frac{\\partial}{\\partial s} + \\frac{b_A^2}{6}\\nabla^2 - w_A({\\bf r})\\right] q^{v \\rightarrow t}_p({\\bf r}, s)=0,\\ \\ \\ \\ \\ s\\in [0, f_A]\n",
    "\\end{align}\n",
    "\n",
    "The propagators for B-type block, $(p,v,t) \\in \\{(1,1,2),(0,2,1)\\}$ :\n",
    "\\begin{align}\n",
    "\\left[-\\frac{\\partial}{\\partial s} + \\frac{b_B^2}{6}\\nabla^2 - w_B({\\bf r})\\right] q^{v \\rightarrow t}_p({\\bf r}, s)=0,\\ \\ \\ \\ \\ s\\in [0, f_B]\n",
    "\\end{align}\n",
    "\n",
    "Single chain partition functions:\n",
    "\\begin{align}\n",
    "Q_0 &= \\frac{1}{V}\\int d{\\bf r}\\ q^{0 \\rightarrow 1}_0({\\bf r}, s)q^{1 \\rightarrow 0}_0({\\bf r}, f_A-s) \\\\\n",
    "Q_1 &= \\frac{1}{V}\\int d{\\bf r}\\ q^{0 \\rightarrow 1}_1({\\bf r}, s)q^{1 \\rightarrow 0}_1({\\bf r}, f_A-s) \n",
    "\\end{align}"
   ]
  },
  {
   "cell_type": "code",
   "execution_count": 55,
   "id": "8cce0b9c",
   "metadata": {},
   "outputs": [
    {
     "name": "stdout",
     "output_type": "stream",
     "text": [
      "Q_0: 1.009876841511915\n",
      "Q_1: 1.0597796111269324\n"
     ]
    }
   ],
   "source": [
    "# Create a solver\n",
    "solver = factory.create_pseudospectral_solver(cb, molecules, propagator_computation_optimizer)\n",
    "\n",
    "# Compute Propagators (q) and single partition function (Q)\n",
    "solver.compute_propagators({\"A\":w[\"A\"], \"B\":w[\"B\"]})\n",
    "\n",
    "# Single partition function\n",
    "Q_0 = solver.get_total_partition(0)\n",
    "Q_1 = solver.get_total_partition(1)\n",
    "print(f\"Q_0:\", Q_0)\n",
    "print(f\"Q_1:\", Q_1)"
   ]
  },
  {
   "cell_type": "markdown",
   "id": "21f5c654",
   "metadata": {},
   "source": [
    "### 7. Compute concentrations\n",
    "\n",
    "\\begin{align}\n",
    "\\phi_A({\\bf r}) &= \\sum_{(p,v,t)\\in\\{(0,0,1),(1,0,1)\\}} \\frac{1}{\\alpha_p Q_p}  \\int_{0}^{f_A} ds\\ q^{v \\rightarrow t}_p({\\bf r}, s)q^{t \\rightarrow v}_0({\\bf r}, f_A-s) \\\\\n",
    "\\phi_B({\\bf r}) &= \\sum_{(p,v,t)\\in\\{(0,1,2)\\}} \\frac{1}{\\alpha_p Q_p} \\int_{0}^{f_B} ds\\ q^{v \\rightarrow t}_p({\\bf r}, s)q^{t \\rightarrow v}_0({\\bf r}, f_B-s) \n",
    "\\end{align}"
   ]
  },
  {
   "cell_type": "code",
   "execution_count": 56,
   "id": "7e08906f",
   "metadata": {},
   "outputs": [
    {
     "data": {
      "image/png": "[encoded data removed]",
      "text/plain": [
       "<Figure size 576x288 with 3 Axes>"
      ]
     },
     "metadata": {
      "needs_background": "light"
     },
     "output_type": "display_data"
    },
    {
     "data": {
      "image/png": "[encoded data removed]",
      "text/plain": [
       "<Figure size 576x288 with 3 Axes>"
      ]
     },
     "metadata": {
      "needs_background": "light"
     },
     "output_type": "display_data"
    },
    {
     "data": {
      "image/png": "[encoded data removed]",
      "text/plain": [
       "<Figure size 576x288 with 3 Axes>"
      ]
     },
     "metadata": {
      "needs_background": "light"
     },
     "output_type": "display_data"
    }
   ],
   "source": [
    "# Compute ensemble average concentration (phi)\n",
    "solver.compute_concentrations()\n",
    "\n",
    "# Get the ensemble average concentration for each monomer type\n",
    "phi_A = np.reshape(solver.get_total_concentration(\"A\"), nx)\n",
    "phi_B = np.reshape(solver.get_total_concentration(\"B\"), nx)\n",
    "\n",
    "# Plot each image with the same vmin and vmax\n",
    "vmin = min(phi_A.min(), phi_B.min())\n",
    "vmax = max(phi_A.max(), phi_B.max())\n",
    "\n",
    "fig, axes = plt.subplots(1, 2, figsize=(8, 4))\n",
    "fig.suptitle(\"Concentrations\")\n",
    "im = axes[0].imshow(phi_A, extent=(0, lx[0], 0, lx[1]), cmap=cm.jet, vmin=vmin, vmax=vmax)\n",
    "im = axes[1].imshow(phi_B, extent=(0, lx[0], 0, lx[1]), cmap=cm.jet, vmin=vmin, vmax=vmax)\n",
    "axes[0].set(title='phi_A', xlabel='x', ylabel='y')\n",
    "axes[1].set(title='phi_B', xlabel='x', ylabel='y')\n",
    "\n",
    "fig.subplots_adjust(right=1.0)\n",
    "fig.colorbar(im, ax=axes.ravel().tolist())\n",
    "fig.show()\n",
    "\n",
    "# Get the ensemble average concentration for each monomer type of AB diblock copolymers\n",
    "phi_A = np.reshape(solver.get_total_concentration(0, \"A\"), nx)\n",
    "phi_B = np.reshape(solver.get_total_concentration(0, \"B\"), nx)\n",
    "\n",
    "# Plot each image with the same vmin and vmax\n",
    "vmin = min(phi_A.min(), phi_B.min())\n",
    "vmax = max(phi_A.max(), phi_B.max())\n",
    "\n",
    "fig, axes = plt.subplots(1, 2, figsize=(8, 4))\n",
    "fig.suptitle(\"Concentrations\")\n",
    "im = axes[0].imshow(phi_A, extent=(0, lx[0], 0, lx[1]), cmap=cm.jet, vmin=vmin, vmax=vmax)\n",
    "im = axes[1].imshow(phi_B, extent=(0, lx[0], 0, lx[1]), cmap=cm.jet, vmin=vmin, vmax=vmax)\n",
    "axes[0].set(title='phi_A', xlabel='x', ylabel='y')\n",
    "axes[1].set(title='phi_B', xlabel='x', ylabel='y')\n",
    "\n",
    "fig.subplots_adjust(right=1.0)\n",
    "fig.colorbar(im, ax=axes.ravel().tolist())\n",
    "fig.show()\n",
    "\n",
    "# Get the ensemble average concentration for each monomer type of A homopolymers\n",
    "phi_A = np.reshape(solver.get_total_concentration(1, \"A\"), nx)\n",
    "phi_B = np.reshape(solver.get_total_concentration(1, \"B\"), nx)\n",
    "\n",
    "# Plot each image with the same vmin and vmax\n",
    "vmin = min(phi_A.min(), phi_B.min())\n",
    "vmax = max(phi_A.max(), phi_B.max())\n",
    "\n",
    "fig, axes = plt.subplots(1, 2, figsize=(8, 4))\n",
    "fig.suptitle(\"Concentrations\")\n",
    "im = axes[0].imshow(phi_A, extent=(0, lx[0], 0, lx[1]), cmap=cm.jet, vmin=vmin, vmax=vmax)\n",
    "im = axes[1].imshow(phi_B, extent=(0, lx[0], 0, lx[1]), cmap=cm.jet, vmin=vmin, vmax=vmax)\n",
    "axes[0].set(title='phi_A', xlabel='x', ylabel='y')\n",
    "axes[1].set(title='phi_B', xlabel='x', ylabel='y')\n",
    "\n",
    "fig.subplots_adjust(right=1.0)\n",
    "fig.colorbar(im, ax=axes.ravel().tolist())\n",
    "fig.show()\n",
    "\n",
    "# # Get concentrations of each block of AB diblock copolymers\n",
    "# phi = solver.get_block_concentration(0)\n",
    "# phi_0 = np.reshape(phi[0], nx)  # First block (A)\n",
    "# phi_1 = np.reshape(phi[1], nx)  # Second block (B)\n",
    "\n",
    "# fig, axes = plt.subplots(1, 2, figsize=(8, 4))\n",
    "# fig.suptitle(\"Concentrations of AB diblock copolymers\")\n",
    "# im = axes[0].imshow(phi_0, extent=(0, lx[0], 0, lx[1]), cmap=cm.jet)\n",
    "# im = axes[1].imshow(phi_1, extent=(0, lx[0], 0, lx[1]), cmap=cm.jet)\n",
    "# axes[0].set(title='phi_0', xlabel='x', ylabel='y')\n",
    "# axes[1].set(title='phi_1', xlabel='x', ylabel='y')\n",
    "\n",
    "# fig.subplots_adjust(right=1.0)\n",
    "# fig.colorbar(im, ax=axes.ravel().tolist())\n",
    "# fig.show()"
   ]
  },
  {
   "cell_type": "code",
   "execution_count": null,
   "id": "8e3a2a29",
   "metadata": {},
   "outputs": [],
   "source": []
  }
 ],
 "metadata": {
  "kernelspec": {
   "display_name": "lfts",
   "language": "python",
   "name": "python3"
  },
  "language_info": {
   "codemirror_mode": {
    "name": "ipython",
    "version": 3
   },
   "file_extension": ".py",
   "mimetype": "text/x-python",
   "name": "python",
   "nbconvert_exporter": "python",
   "pygments_lexer": "ipython3",
   "version": "3.9.18"
  }
 },
 "nbformat": 4,
 "nbformat_minor": 5
}
