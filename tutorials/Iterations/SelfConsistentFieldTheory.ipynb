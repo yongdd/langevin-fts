{
 "cells": [
  {
   "cell_type": "markdown",
   "id": "7df8488f",
   "metadata": {},
   "source": [
    "# Finding Saddle-point Solutions with Chemical Potential Fields\n",
    "\n",
    "This script demonstrates how to find the saddle-point solution of AB diblock copolymer systems with chemical potential fields (such as W_A, W_B, and W_C).\n",
    "\n",
    "### 1. Setting simulation parameters and Initialization\n",
    "\n",
    "\\begin{align}\n",
    "N &= 100 \\\\\n",
    "\\Delta s &= 1/N = 0.01 \\\\\n",
    "L_x &= 2.0 bN^{1/2} \\\\\n",
    "L_y &= 2.0 bN^{1/2} \\\\\n",
    "V &= L_x L_y \\\\ \n",
    "m_x &= 64 \\\\\n",
    "m_y &= 64 \\\\\n",
    "b_A/b &= 1.0 \\\\\n",
    "b_B/b &= 1.0 \\\\  \n",
    "\\chi N &= 20 \\\\\n",
    "\\end{align}\n",
    "\n",
    "In numerical computation, $b^2N = 1$."
   ]
  },
  {
   "cell_type": "code",
   "execution_count": null,
   "id": "530564af",
   "metadata": {},
   "outputs": [
    {
     "name": "stdout",
     "output_type": "stream",
     "text": [
      "==================== MKL Version ====================\n",
      "Major version:           2021\n",
      "Minor version:           0\n",
      "Update version:          4\n",
      "Product status:          Product\n",
      "Build:                   20210904\n",
      "Platform:                Intel(R) 64 architecture\n",
      "Processor optimization:  Intel(R) Architecture processors\n",
      "================================================================\n",
      "--------------- Blocks ---------------\n",
      "Polymer id, left key:\n",
      "\taggregated, (left, right) is_junction, (left, right) n_segment, right key, n_repeat, {v, u} list\n",
      "\n",
      "0, A:\n",
      "\t X, (X, O), (50, 50), (B50)A, 1, {0,1}\n",
      "\n",
      "0, B:\n",
      "\t X, (X, O), (50, 50), (A50)B, 1, {2,1}\n",
      "--------------- Propagators ---------------\n",
      "Key:\n",
      "\theight, aggregated, max_n_segment, # dependencies, junction_ends\n",
      "B:\n",
      "\t 0, X, 50, 0, {50}, \n",
      "A:\n",
      "\t 0, X, 50, 0, {50}, \n",
      "(B50)A:\n",
      "\t 1, X, 50, 1, {}, \n",
      "(A50)B:\n",
      "\t 1, X, 50, 1, {}, \n",
      "Total number of modified diffusion equation steps (time complexity) to compute propagators: 200\n",
      "Total number of steps after optimizing computation : 200\n",
      "Computational cost reduction (higher is better) : 0 %\n"
     ]
    }
   ],
   "source": [
    "import os\n",
    "import numpy as np\n",
    "import matplotlib.pyplot as plt\n",
    "import matplotlib.cm as cm\n",
    "import polymerfts\n",
    "\n",
    "# OpenMP environment variables\n",
    "os.environ[\"MKL_NUM_THREADS\"] = \"1\"  # always 1\n",
    "os.environ[\"OMP_STACKSIZE\"] = \"1G\"\n",
    "os.environ[\"OMP_MAX_ACTIVE_LEVELS\"] = \"1\"  # 0, 1\n",
    "os.environ[\"OMP_NUM_THREADS\"] = \"2\"  # 1 ~ 4\n",
    "\n",
    "# GPU environment variables\n",
    "os.environ[\"LFTS_GPU_NUM_BLOCKS\"]  = \"256\"\n",
    "os.environ[\"LFTS_GPU_NUM_THREADS\"] = \"256\"\n",
    "os.environ[\"LFTS_NUM_GPUS\"] = \"1\" # 1 ~ 2\n",
    "\n",
    "# Simulation parameters\n",
    "nx = [64,64]                       # grid number\n",
    "lx = [2.0,2.0]                     # box size\n",
    "stat_seg_lengths = {\"A\":1.0,       # statistical segment lengths\n",
    "                    \"B\":1.0}        \n",
    "ds = 0.01                          # contour step interval\n",
    "chi_n = {\"A,B\":20}\n",
    "monomer_types = [\"A\", \"B\"]  # monomer types\n",
    "\n",
    "# Select platform (\"cuda\" or \"cpu-mkl\") for real-valued simulations\n",
    "reduce_gpu_memory_usage = False\n",
    "factory = polymerfts.PlatformSelector.create_factory(\"cpu-mkl\", reduce_gpu_memory_usage, \"real\")\n",
    "factory.display_info()\n",
    "\n",
    "# Create an instance for computation box\n",
    "cb = factory.create_computation_box(nx, lx) \n",
    "# Create an instance for molecule information with block segment information and chain model (\"continuous\" or \"discrete\")\n",
    "molecules = factory.create_molecules_information(\"continuous\", ds, stat_seg_lengths)\n",
    "\n",
    "# Add AB diblock copolymers\n",
    "volume_fraction = 1.0\n",
    "blocks = [[\"A\", 0.5, 0, 1],   # monomer type, statistical segment length, start index, end index\n",
    "          [\"B\", 0.5, 1, 2]]\n",
    "molecules.add_polymer(volume_fraction, blocks)\n",
    "\n",
    "# Optimizer to avoid redundant computations\n",
    "aggregate_propagator_computation = True\n",
    "propagator_computation_optimizer = factory.create_propagator_computation_optimizer(molecules, aggregate_propagator_computation)\n",
    "propagator_computation_optimizer.display_blocks()\n",
    "propagator_computation_optimizer.display_propagators()\n",
    "\n",
    "# Create a solver\n",
    "solver = factory.create_pseudospectral_solver(cb, molecules, propagator_computation_optimizer)"
   ]
  },
  {
   "cell_type": "markdown",
   "id": "515522b8",
   "metadata": {},
   "source": [
    "### 2. Initial Potential Fields"
   ]
  },
  {
   "cell_type": "code",
   "execution_count": 13,
   "id": "dfa2b1d0",
   "metadata": {},
   "outputs": [
    {
     "data": {
      "image/png": "[encoded data removed]",
      "text/plain": [
       "<Figure size 576x288 with 3 Axes>"
      ]
     },
     "metadata": {
      "needs_background": "light"
     },
     "output_type": "display_data"
    }
   ],
   "source": [
    "w_A =  np.tile(np.sin(np.linspace(0, 2*np.pi, nx[0])), (nx[1], 1))   # sinusoidal potential field for A\n",
    "w_B = -np.tile(np.sin(np.linspace(0, 2*np.pi, nx[0])), (nx[1], 1))   # sinusoidal potential field for B\n",
    "w = {\"A\": w_A, \"B\": w_B}  # potential field dictionary\n",
    "\n",
    "# Plot each image with the same vmin and vmax\n",
    "vmin = min(w_A.min(), w_B.min())\n",
    "vmax = max(w_A.max(), w_B.max())\n",
    "\n",
    "fig, axes = plt.subplots(1, 2, figsize=(8, 4))\n",
    "fig.suptitle(\"Potential Fields\")\n",
    "im = axes[0].imshow(w_A, extent=(0, lx[0], 0, lx[1]), cmap=cm.jet, vmin=vmin, vmax=vmax)\n",
    "im = axes[1].imshow(w_B, extent=(0, lx[0], 0, lx[1]), cmap=cm.jet, vmin=vmin, vmax=vmax)\n",
    "axes[0].set(title='w_A', xlabel='x', ylabel='y')\n",
    "axes[1].set(title='w_B', xlabel='x', ylabel='y')\n",
    "\n",
    "fig.subplots_adjust(right=1.0)\n",
    "fig.colorbar(im, ax=axes.ravel().tolist())\n",
    "fig.show()"
   ]
  },
  {
   "cell_type": "markdown",
   "id": "ade170e4",
   "metadata": {},
   "source": [
    "### 3. The Helmholtz Free Energy\n",
    "\n",
    "* $CV=n$\n",
    "\n",
    "* $\\bar{\\phi}_p=\\frac{V_p}{V}$, $V=\\frac{nN}{\\rho_0}$, $V_p=\\frac{n_pN_p}{\\rho_0}$, ${\\alpha_p}=\\frac{N_p}{N}$\n",
    "\n",
    "* The Helmholtz free energy $F$ is written as in 'per monomer' unit:\n",
    "\\begin{align}\n",
    "\\beta F &= -\\sum_i n_i\\log{Q_i} +\n",
    "\\rho_0\\int d{\\bf r}\\left[\\frac{1}{2} \\sum_{ij} \\chi_{ij}\\phi_{i}({\\bf r})\\phi_{j}({\\bf r})\n",
    "-\\sum_{i} w_{i}({\\bf r})\\phi_{i}({\\bf r}) \\right],  \\ \\ \\ \\ (\\textrm{per monomer unit})\n",
    "\\end{align}\n",
    "\n",
    "* The Helmholtz free energy  $F$ can be rewritten:\n",
    "\\begin{align}\n",
    "Nw_{i} &\\rightarrow w_{i}, \\\\\n",
    "\\frac{\\beta F}{CV} &= \\frac{\\beta F}{n} = -\\sum_i \\frac{\\bar{\\phi}_i}{\\alpha_i}\\log{Q_i} +\n",
    "\\frac{1}{V}\\int d{\\bf r}\\left[\\frac{1}{2} \\sum_{ij} \\chi_{ij}N\\phi_{i}({\\bf r})\\phi_{\\beta}({\\bf r})\n",
    "-\\sum_{i} w_{i}({\\bf r})\\phi_{i}({\\bf r}) \\right].  \\ \\ \\ \\ (\\textrm{per chain unit})\n",
    "\\end{align}\n",
    "\n",
    "* The Helmholtz free energy per $p$-chain:\n",
    "\\begin{align}\n",
    "\\frac{\\beta F}{n_p} &= \\frac{\\alpha_p}{\\bar{\\phi}_p}\\frac{\\beta F}{CV}  \\ \\ \\ \\ (\\textrm{per $p$-chain})\n",
    "\\end{align}"
   ]
  },
  {
   "cell_type": "code",
   "execution_count": null,
   "id": "71bf19b7",
   "metadata": {},
   "outputs": [
    {
     "name": "stdout",
     "output_type": "stream",
     "text": [
      "One of eigenvalues is zero for given chiN values.\n",
      "------------ Polymer Field Theory for Multimonomer ------------\n",
      "Eigenvalues:\n",
      "\t [-20.   0.]\n",
      "Eigenvectors [v1, v2, ...] :\n",
      "\t [[ 1.  1.]\n",
      "\t [-1.  1.]]\n",
      "Mapping matrix A:\n",
      "\t [[ 1.  1.]\n",
      "\t [-1.  1.]]\n",
      "Real Fields:  [0]\n",
      "Imaginary Fields:  [1]\n",
      "In Hamiltonian:\n",
      "\treference energy:  5.0\n",
      "\tcoefficients of int of mu(r)/V:  [-0. -1.]\n",
      "\tcoefficients of int of mu(r)^2/V:  [0.05 0.  ]\n",
      "\tdH_ref/dχN:  {'A,B': 0.24999999999053554}\n",
      "\td(coef of mu(r))/dχN:  {'A,B': array([0., 0.])}\n",
      "\td(coef of mu(r)^2)/dχN:  {'A,B': array([-0.0025,  0.    ])}\n"
     ]
    },
    {
     "ename": "TypeError",
     "evalue": "compute_concentrations() missing 1 required positional argument: 'w'",
     "output_type": "error",
     "traceback": [
      "\u001b[0;31m---------------------------------------------------------------------------\u001b[0m",
      "\u001b[0;31mTypeError\u001b[0m                                 Traceback (most recent call last)",
      "Input \u001b[0;32mIn [20]\u001b[0m, in \u001b[0;36m<cell line: 19>\u001b[0;34m()\u001b[0m\n\u001b[1;32m     18\u001b[0m \u001b[38;5;66;03m# Iteration begins here\u001b[39;00m\n\u001b[1;32m     19\u001b[0m \u001b[38;5;28;01mfor\u001b[39;00m scft_iter \u001b[38;5;129;01min\u001b[39;00m \u001b[38;5;28mrange\u001b[39m(\u001b[38;5;241m1\u001b[39m, \u001b[38;5;241m1001\u001b[39m):\n\u001b[1;32m     20\u001b[0m \n\u001b[1;32m     21\u001b[0m     \u001b[38;5;66;03m# Compute total concentration for each monomer type\u001b[39;00m\n\u001b[0;32m---> 22\u001b[0m     phi \u001b[38;5;241m=\u001b[39m \u001b[43mcompute_concentrations\u001b[49m\u001b[43m(\u001b[49m\u001b[43mw\u001b[49m\u001b[43m)\u001b[49m\n\u001b[1;32m     24\u001b[0m     \u001b[38;5;66;03m# # Scaling phi\u001b[39;00m\n\u001b[1;32m     25\u001b[0m     \u001b[38;5;66;03m# for monomer_type in self.monomer_types:\u001b[39;00m\n\u001b[1;32m     26\u001b[0m     \u001b[38;5;66;03m#     phi[monomer_type] *= self.phi_rescaling\u001b[39;00m\n\u001b[1;32m     27\u001b[0m \n\u001b[1;32m     28\u001b[0m     \u001b[38;5;66;03m# Convert monomer fields to auxiliary fields\u001b[39;00m\n\u001b[1;32m     29\u001b[0m     w_aux \u001b[38;5;241m=\u001b[39m mpt\u001b[38;5;241m.\u001b[39mto_aux_fields(w)\n",
      "\u001b[0;31mTypeError\u001b[0m: compute_concentrations() missing 1 required positional argument: 'w'"
     ]
    }
   ],
   "source": [
    "def compute_concentrations(self, w):\n",
    "    S = len(self.monomer_types)\n",
    "\n",
    "    # For the given fields, compute the polymer statistics\n",
    "    self.solver.compute_propagators(w)\n",
    "    self.solver.compute_concentrations()\n",
    "\n",
    "    # Compute total concentration for each monomer type\n",
    "    phi = {}\n",
    "    for monomer_type in self.monomer_types:\n",
    "        phi[monomer_type] = self.solver.get_total_concentration(monomer_type)\n",
    "\n",
    "    return phi\n",
    "\n",
    "# The number of components\n",
    "S = len(monomer_types)\n",
    "\n",
    "# Polymer field theory for Multimonomer system\n",
    "mpt = polymerfts.SymmetricPolymerTheory(monomer_types, chi_n, zeta_n=None)\n",
    "\n",
    "# Iteration begins here\n",
    "for scft_iter in range(1000):\n",
    "    # Compute total concentration for each monomer type\n",
    "    phi = compute_concentrations(w)\n",
    "\n",
    "    # Convert monomer fields to auxiliary fields\n",
    "    omega = mpt.to_aux_fields(w)\n",
    "\n",
    "    # Calculate the total energy\n",
    "    # energy_total = - self.cb.integral(self.phi_target*w_exchange[S-1])/self.cb.get_volume()\n",
    "    total_partitions = [solver.get_total_partition(p) for p in range(molecules.get_n_polymer_types())]\n",
    "    energy_total = mpt.compute_hamiltonian(molecules, omega, total_partitions, include_const_term=False)\n",
    "\n",
    "    # Calculate difference between current total density and target density\n",
    "    phi_total = np.zeros(cb.get_total_grid())\n",
    "    for i in range(S):\n",
    "        phi_total += phi[monomer_types[i]]\n",
    "    # phi_diff = phi_total-self.phi_target\n",
    "    phi_diff = phi_total-1.0\n",
    "\n",
    "    # Calculate self-consistency error\n",
    "    w_diff = np.zeros([S, cb.get_total_grid()], dtype=np.float64) # array for output fields\n",
    "    for i in range(S):\n",
    "        for j in range(S):\n",
    "            w_diff[i,:] += matrix_chi[i,j]*phi[monomer_types[j]] - matrix_p[i,j]*w[j,:]\n",
    "        # w_diff[i,:] -= self.phi_target_pressure\n",
    "\n",
    "    # Keep the level of functional derivatives\n",
    "    for i in range(S):\n",
    "        w_diff[i] -= cb.integral(w_diff[i])/cb.get_volume()\n",
    "\n",
    "    # error_level measures the \"relative distance\" between the input and output fields\n",
    "    old_error_level = error_level\n",
    "    error_level = 0.0\n",
    "    error_normal = 1.0  # add 1.0 to prevent divergence\n",
    "    for i in range(S):\n",
    "        error_level += cb.inner_product(w_diff[i],w_diff[i])\n",
    "        error_normal += cb.inner_product(w[i],w[i])\n",
    "    error_level = np.sqrt(error_level/error_normal)\n",
    "\n",
    "    # Print iteration # and error levels and check the mass conservation\n",
    "    mass_error = cb.integral(phi_diff)/cb.get_volume()\n",
    "    \n",
    "    print(\"%8d %12.3E \" % (scft_iter, mass_error), end=\" [ \")\n",
    "    for p in range(molecules.get_n_polymer_types()):\n",
    "        print(\"%13.7E \" % (solver.get_total_partition(p)), end=\" \")\n",
    "    print(\"] %15.9f %15.7E \" % (energy_total, error_level))"
   ]
  },
  {
   "cell_type": "code",
   "execution_count": null,
   "id": "187b6f14",
   "metadata": {},
   "outputs": [
    {
     "data": {
      "text/plain": [
       "['A', 'B']"
      ]
     },
     "execution_count": 18,
     "metadata": {},
     "output_type": "execute_result"
    }
   ],
   "source": []
  },
  {
   "cell_type": "code",
   "execution_count": null,
   "id": "7d730065",
   "metadata": {},
   "outputs": [],
   "source": []
  }
 ],
 "metadata": {
  "kernelspec": {
   "display_name": "base",
   "language": "python",
   "name": "python3"
  },
  "language_info": {
   "codemirror_mode": {
    "name": "ipython",
    "version": 3
   },
   "file_extension": ".py",
   "mimetype": "text/x-python",
   "name": "python",
   "nbconvert_exporter": "python",
   "pygments_lexer": "ipython3",
   "version": "3.9.21"
  }
 },
 "nbformat": 4,
 "nbformat_minor": 5
}
