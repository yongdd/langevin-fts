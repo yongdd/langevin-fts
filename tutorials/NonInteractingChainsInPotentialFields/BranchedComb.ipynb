{
 "cells": [
  {
   "cell_type": "markdown",
   "id": "7df8488f",
   "metadata": {},
   "source": [
    "# AB Comb Polymers in Potential Fields\n",
    "\n",
    "This script demonstrates how to compute single partition functions and concentrations of AB Comb polymers for given monomer potential fields.\n",
    "\n",
    "### 1. Import modules and set environment variables"
   ]
  },
  {
   "cell_type": "code",
   "execution_count": 52,
   "id": "11225565",
   "metadata": {},
   "outputs": [],
   "source": [
    "import os\n",
    "import numpy as np\n",
    "import matplotlib.pyplot as plt\n",
    "import matplotlib.cm as cm\n",
    "import polymerfts\n",
    "\n",
    "# OpenMP environment variables\n",
    "os.environ[\"MKL_NUM_THREADS\"] = \"1\"  # always 1\n",
    "os.environ[\"OMP_STACKSIZE\"] = \"1G\"\n",
    "os.environ[\"OMP_MAX_ACTIVE_LEVELS\"] = \"1\"  # 0, 1\n",
    "os.environ[\"OMP_NUM_THREADS\"] = \"2\"  # 1 ~ 4\n",
    "\n",
    "# GPU environment variables\n",
    "os.environ[\"LFTS_GPU_NUM_BLOCKS\"]  = \"256\"\n",
    "os.environ[\"LFTS_GPU_NUM_THREADS\"] = \"256\""
   ]
  },
  {
   "cell_type": "markdown",
   "id": "db1273a8",
   "metadata": {},
   "source": [
    "### 2. Setup some simulation parameters\n",
    "\n",
    "\\begin{align}\n",
    "N &= 100 \\\\\n",
    "\\Delta s &= 1/N = 0.01 \\\\\n",
    "R_0 & = bN^{1/2} \\\\\n",
    "L_x &= 5.0 R_0 \\\\\n",
    "L_y &= 5.0 R_0 \\\\\n",
    "V &= L_x L_y \\\\ \n",
    "m_x &= 64 \\\\\n",
    "m_y &= 64 \\\\\n",
    "b_A/b &= 1.0 \\\\\n",
    "b_B/b &= 1.0 \\\\  \n",
    "\\end{align}"
   ]
  },
  {
   "cell_type": "code",
   "execution_count": 53,
   "id": "530564af",
   "metadata": {},
   "outputs": [],
   "source": [
    "# Simulation parameters\n",
    "nx = [64,64]                       # grid number\n",
    "lx = [5.0,5.0]                     # box size\n",
    "stat_seg_lengths = {\"A\":1.0,       # statistical segment lengths\n",
    "                    \"B\":1.0}       \n",
    "ds = 0.01                          # contour step interval"
   ]
  },
  {
   "cell_type": "markdown",
   "id": "e11e06aa",
   "metadata": {},
   "source": [
    "### 3. Create a factory\n",
    "\n",
    "* The factory will create the following instances for chosen platform and data-type.\n",
    "    * simulation_box\n",
    "    * molecules\n",
    "    * propagator_computation_optimizer\n",
    "    * solver"
   ]
  },
  {
   "cell_type": "code",
   "execution_count": 54,
   "id": "17ee3c5f",
   "metadata": {},
   "outputs": [
    {
     "name": "stdout",
     "output_type": "stream",
     "text": [
      "==================== MKL Version ====================\n",
      "Major version:           2021\n",
      "Minor version:           0\n",
      "Update version:          4\n",
      "Product status:          Product\n",
      "Build:                   20210904\n",
      "Platform:                Intel(R) 64 architecture\n",
      "Processor optimization:  Intel(R) Architecture processors\n",
      "================================================================\n"
     ]
    }
   ],
   "source": [
    "# Select platform (\"cuda\" or \"cpu-mkl\") and data-type (\"real\" or \"complex\")\n",
    "reduce_gpu_memory_usage = False\n",
    "factory = polymerfts.PlatformSelector.create_factory(\"cpu-mkl\", reduce_gpu_memory_usage, \"real\")\n",
    "factory.display_info()"
   ]
  },
  {
   "cell_type": "code",
   "execution_count": 55,
   "id": "1d719123",
   "metadata": {},
   "outputs": [],
   "source": [
    "# Create an instance for computation box\n",
    "cb = factory.create_computation_box(nx, lx) \n",
    "# Create an instance for molecule information with block segment information and chain model (\"continuous\" or \"discrete\")\n",
    "molecules = factory.create_molecules_information(\"continuous\", ds, stat_seg_lengths)"
   ]
  },
  {
   "cell_type": "markdown",
   "id": "f7a12c76",
   "metadata": {},
   "source": [
    "### 4. Add comb polymers\n",
    "\n",
    "The backbone length is 1.0 with A-type monomers.\n",
    "There are two side chains, whose monomer type are B and each length is 0.5.\n",
    "Block lengths for A and B blocks are $f_A=0.5$ and $f_B=0.5$."
   ]
  },
  {
   "cell_type": "code",
   "execution_count": 56,
   "id": "b90ac3df",
   "metadata": {},
   "outputs": [],
   "source": [
    "# Add AB diblock copolymers\n",
    "volume_fraction = 1.0\n",
    "blocks = [[\"A\", 0.5, 0, 1],\n",
    "          [\"A\", 0.5, 1, 2],\n",
    "          [\"B\", 0.5, 0, 3],\n",
    "          [\"B\", 0.5, 1, 4],\n",
    "          ]\n",
    "molecules.add_polymer(volume_fraction, blocks)"
   ]
  },
  {
   "cell_type": "markdown",
   "id": "31bb5f7b",
   "metadata": {},
   "source": [
    "### 5. Analyze graphs and optimize the computations\n",
    "\n",
    "Remove the redundant computations and aggregate propagators of multiple side chains.\n",
    "\n",
    "Reference: [(2025) Dynamic Programming for Chain Propagator Computation of Branched Block Copolymers in Polymer Field Theory Simulations](https://doi.org/10.1021/acs.jctc.5c00103)"
   ]
  },
  {
   "cell_type": "code",
   "execution_count": 57,
   "id": "f8fe1b7e",
   "metadata": {},
   "outputs": [
    {
     "name": "stdout",
     "output_type": "stream",
     "text": [
      "--------------- Blocks ---------------\n",
      "Polymer id, left key:\n",
      "\taggregated, (left, right) is_junction, (left, right) n_segment, right key, n_repeat, {v, u} list\n",
      "\n",
      "0, (B50)A:\n",
      "\t X, (O, O), (50, 50), (A50B50)A, 1, {0,1}\n",
      "\n",
      "0, A:\n",
      "\t X, (X, O), (50, 50), ((B50)A50B50)A, 1, {2,1}\n",
      "\n",
      "0, B:\n",
      "\t X, (X, O), (50, 0), ((A50B50)A50)B, 1, {3,0}\n",
      "\t X, (X, O), (50, 0), ((B50)A50A50)B, 1, {4,1}\n",
      "\t O, (X, O), (50, 50), [((A50B50)A50)B0,((B50)A50A50)B0]B, 1, {3,0}, {4,1}\n",
      "--------------- Propagators ---------------\n",
      "Key:\n",
      "\theight, aggregated, max_n_segment, # dependencies, junction_ends\n",
      "B:\n",
      "\t 0, X, 50, 0, {50}, \n",
      "A:\n",
      "\t 0, X, 50, 0, {50}, \n",
      "(B50)A:\n",
      "\t 1, X, 50, 1, {50}, \n",
      "(A50B50)A:\n",
      "\t 1, X, 50, 2, {50}, \n",
      "((B50)A50B50)A:\n",
      "\t 2, X, 50, 2, {}, \n",
      "((B50)A50A50)B:\n",
      "\t 2, X, 0, 2, {}, \n",
      "((A50B50)A50)B:\n",
      "\t 2, X, 0, 1, {}, \n",
      "[((A50B50)A50)B0,((B50)A50A50)B0]B:\n",
      "\t 3, O, 50, 2, {}, \n",
      "Total number of modified diffusion equation steps (time complexity) to compute propagators: 400\n",
      "Total number of steps after optimizing computation : 300\n",
      "Computational cost reduction (higher is better) : 25 %\n"
     ]
    }
   ],
   "source": [
    "# Optimizer to avoid redundant computations\n",
    "aggregate_propagator_computation = True\n",
    "propagator_computation_optimizer = factory.create_propagator_computation_optimizer(molecules, aggregate_propagator_computation)\n",
    "propagator_computation_optimizer.display_blocks()\n",
    "propagator_computation_optimizer.display_propagators()"
   ]
  },
  {
   "cell_type": "markdown",
   "id": "515522b8",
   "metadata": {},
   "source": [
    "### 6. Set potential fields"
   ]
  },
  {
   "cell_type": "code",
   "execution_count": 58,
   "id": "dfa2b1d0",
   "metadata": {},
   "outputs": [
    {
     "data": {
      "image/png": "[encoded data removed]",
      "text/plain": [
       "<Figure size 576x288 with 3 Axes>"
      ]
     },
     "metadata": {
      "needs_background": "light"
     },
     "output_type": "display_data"
    }
   ],
   "source": [
    "w_A =  np.tile(np.sin(np.linspace(0, 2*np.pi, nx[0])), (nx[1], 1))   # sinusoidal potential field for A\n",
    "w_B = -np.tile(np.sin(np.linspace(0, 2*np.pi, nx[0])), (nx[1], 1))   # sinusoidal potential field for B\n",
    "w = {\"A\": w_A, \"B\": w_B}  # potential field dictionary\n",
    "\n",
    "# Plot each image with the same vmin and vmax\n",
    "vmin = min(w_A.min(), w_B.min())\n",
    "vmax = max(w_A.max(), w_B.max())\n",
    "\n",
    "fig, axes = plt.subplots(1, 2, figsize=(8, 4))\n",
    "fig.suptitle(\"Potential Fields\")\n",
    "im = axes[0].imshow(w_A, extent=(0, lx[1], 0, lx[0]), origin=\"lower\", cmap=cm.jet, vmin=vmin, vmax=vmax)\n",
    "im = axes[1].imshow(w_B, extent=(0, lx[1], 0, lx[0]), origin=\"lower\", cmap=cm.jet, vmin=vmin, vmax=vmax)\n",
    "axes[0].set(title='w_A', xlabel='y', ylabel='x')\n",
    "axes[1].set(title='w_B', xlabel='y', ylabel='x')\n",
    "\n",
    "fig.subplots_adjust(right=1.0)\n",
    "fig.colorbar(im, ax=axes.ravel().tolist())\n",
    "fig.show()"
   ]
  },
  {
   "cell_type": "markdown",
   "id": "f92451e0",
   "metadata": {},
   "source": [
    "### 7. Solving the modified diffusion equations and compute single chain partition function\n",
    "\n",
    "The propagators for A-type block, $(v,t) \\in \\{(0,1),(1,2),(1,0),(2,1)\\}$ :\n",
    "\\begin{align}\n",
    "\\left[-\\frac{\\partial}{\\partial s} + \\frac{b_A^2}{6}\\nabla^2 - w_A({\\bf r})\\right] q^{v \\rightarrow t}_0({\\bf r}, s)=0,\\ \\ \\ \\ \\ s\\in [0, f_A]\n",
    "\\end{align}\n",
    "\n",
    "The propagators for B-type block in forward direction, $(v,t) \\in \\{(3,0),(4,1)\\}$ :\n",
    "\\begin{align}\n",
    "\\left[-\\frac{\\partial}{\\partial s} + \\frac{b_B^2}{6}\\nabla^2 - w_B({\\bf r})\\right] q^{v \\rightarrow t}_0({\\bf r}, s)=0,\\ \\ \\ \\ \\ s\\in [0, f_B]\n",
    "\\end{align}\n",
    "\n",
    "The propagators for B-type block in backward direction with aggregation:\n",
    "\\begin{align}\n",
    "\\left[-\\frac{\\partial}{\\partial s} + \\frac{b_B^2}{6}\\nabla^2 - w_B({\\bf r})\\right] \\left[q^{0 \\rightarrow 3}_0({\\bf r}, s)+q^{1 \\rightarrow 4}_0({\\bf r}, s) \\right]=0,\\ \\ \\ \\ \\ s\\in [0, f_B]\n",
    "\\end{align}\n",
    "\n",
    "Single chain partition function:\n",
    "\\begin{align}\n",
    "Q_0 = \\frac{1}{V}\\int d{\\bf r}\\ q^{0 \\rightarrow 1}_0({\\bf r}, s)q^{1 \\rightarrow 0}_0({\\bf r}, f_A-s) \n",
    "\\end{align}"
   ]
  },
  {
   "cell_type": "code",
   "execution_count": 59,
   "id": "8cce0b9c",
   "metadata": {},
   "outputs": [
    {
     "name": "stdout",
     "output_type": "stream",
     "text": [
      "Q: 1.0198688907711115\n"
     ]
    }
   ],
   "source": [
    "# Create a solver\n",
    "solver = factory.create_pseudospectral_solver(cb, molecules, propagator_computation_optimizer)\n",
    "\n",
    "# Compute Propagators (q) and single partition function (Q)\n",
    "solver.compute_propagators({\"A\":w[\"A\"], \"B\":w[\"B\"]})\n",
    "\n",
    "# Single partition function\n",
    "Q = solver.get_total_partition(0)\n",
    "print(f\"Q:\", Q)"
   ]
  },
  {
   "cell_type": "markdown",
   "id": "21f5c654",
   "metadata": {},
   "source": [
    "### 8. Compute concentrations\n",
    "\n",
    "\\begin{align}\n",
    "\\phi_A({\\bf r}) &= \\frac{1}{Q_0} \\sum_{(v,u)\\in\\{(0,1),(1,2)\\}} \\int_{0}^{f_A} ds\\ q^{v \\rightarrow u}_0({\\bf r}, s)q^{u \\rightarrow v}_0({\\bf r}, f_A-s) \\\\\n",
    "\\phi_B({\\bf r}) &= \\frac{1}{Q_0} \\sum_{(v,u)\\in\\{(0,3),(1,4)\\}} \\int_{0}^{f_B} ds\\ q^{v \\rightarrow u}_0({\\bf r}, s)q^{u \\rightarrow v}_0({\\bf r}, f_B-s) \\\\\n",
    "                &= \\frac{1}{Q_0} \\int_{0}^{f_B} ds\\ \\left[q^{0 \\rightarrow 3}_0({\\bf r}, s)+q^{1 \\rightarrow 4}_0({\\bf r}, s)\\right] q^{3 \\rightarrow 0}_0({\\bf r}, f_B-s) \n",
    "\\end{align}"
   ]
  },
  {
   "cell_type": "code",
   "execution_count": 60,
   "id": "7e08906f",
   "metadata": {},
   "outputs": [
    {
     "data": {
      "image/png": "[encoded data removed]",
      "text/plain": [
       "<Figure size 576x288 with 3 Axes>"
      ]
     },
     "metadata": {
      "needs_background": "light"
     },
     "output_type": "display_data"
    }
   ],
   "source": [
    "# Compute ensemble average concentration (phi)\n",
    "solver.compute_concentrations()\n",
    "\n",
    "# Get the ensemble average concentration for each monomer type\n",
    "phi_A = np.reshape(solver.get_total_concentration(\"A\"), nx)\n",
    "phi_B = np.reshape(solver.get_total_concentration(\"B\"), nx)\n",
    "\n",
    "# Plot each image with the same vmin and vmax\n",
    "vmin = min(phi_A.min(), phi_B.min())\n",
    "vmax = max(phi_A.max(), phi_B.max())\n",
    "\n",
    "fig, axes = plt.subplots(1, 2, figsize=(8, 4))\n",
    "fig.suptitle(\"Concentrations\")\n",
    "im = axes[0].imshow(phi_A, extent=(0, lx[1], 0, lx[0]), origin=\"lower\", cmap=cm.jet, vmin=vmin, vmax=vmax)\n",
    "im = axes[1].imshow(phi_B, extent=(0, lx[1], 0, lx[0]), origin=\"lower\", cmap=cm.jet, vmin=vmin, vmax=vmax)\n",
    "axes[0].set(title='phi_A', xlabel='y', ylabel='x')\n",
    "axes[1].set(title='phi_B', xlabel='y', ylabel='x')\n",
    "\n",
    "fig.subplots_adjust(right=1.0)\n",
    "fig.colorbar(im, ax=axes.ravel().tolist())\n",
    "fig.show()"
   ]
  },
  {
   "cell_type": "markdown",
   "id": "afa3d5eb",
   "metadata": {},
   "source": [
    "### 9. Access the propagators\n",
    "\n",
    "The following propagators are not accessible, since they are aggregated.\n",
    "\n",
    "* $q^{0 \\rightarrow 3}_0({\\bf r}, s)$\n",
    "* $q^{1 \\rightarrow 4}_0({\\bf r}, s)$\n",
    "\n",
    "To access these propagator, turn off the aggregation.\n",
    "\n",
    "```python\n",
    "# Optimizer to avoid redundant computations\n",
    "aggregate_propagator_computation = False\n",
    "```"
   ]
  },
  {
   "cell_type": "code",
   "execution_count": 61,
   "id": "79d17572",
   "metadata": {},
   "outputs": [
    {
     "data": {
      "image/png": "[encoded data removed]",
      "text/plain": [
       "<Figure size 576x288 with 2 Axes>"
      ]
     },
     "metadata": {
      "needs_background": "light"
     },
     "output_type": "display_data"
    },
    {
     "ename": "RuntimeError",
     "evalue": "File: \"/home/yongdd/polymer/langevin-fts/src/pybind11/polymerfts_core.cpp\", line: 293, function <operator()>\n\tFile: \"/home/yongdd/polymer/langevin-fts/src/platforms/cpu/CpuComputationContinuous.cpp\", function <get_chain_propagator>\n\tFile: \"/home/yongdd/polymer/langevin-fts/src/platforms/cpu/CpuComputationContinuous.cpp\", line: 780, function <get_chain_propagator>\n\tn (50) must be in range [0, 0]",
     "output_type": "error",
     "traceback": [
      "\u001b[0;31m---------------------------------------------------------------------------\u001b[0m",
      "\u001b[0;31mRuntimeError\u001b[0m                              Traceback (most recent call last)",
      "Input \u001b[0;32mIn [61]\u001b[0m, in \u001b[0;36m<cell line: 22>\u001b[0;34m()\u001b[0m\n\u001b[1;32m     20\u001b[0m plt\u001b[38;5;241m.\u001b[39mxlabel(\u001b[38;5;124m'\u001b[39m\u001b[38;5;124my\u001b[39m\u001b[38;5;124m'\u001b[39m)\n\u001b[1;32m     21\u001b[0m plt\u001b[38;5;241m.\u001b[39mylabel(\u001b[38;5;124m'\u001b[39m\u001b[38;5;124mx\u001b[39m\u001b[38;5;124m'\u001b[39m)\n\u001b[0;32m---> 22\u001b[0m data \u001b[38;5;241m=\u001b[39m np\u001b[38;5;241m.\u001b[39mreshape(\u001b[43msolver\u001b[49m\u001b[38;5;241;43m.\u001b[39;49m\u001b[43mget_chain_propagator\u001b[49m\u001b[43m(\u001b[49m\u001b[43mp\u001b[49m\u001b[43m,\u001b[49m\u001b[43m \u001b[49m\u001b[43mv\u001b[49m\u001b[43m,\u001b[49m\u001b[43m \u001b[49m\u001b[43mu\u001b[49m\u001b[43m,\u001b[49m\u001b[43m \u001b[49m\u001b[38;5;241;43m50\u001b[39;49m\u001b[43m)\u001b[49m, nx) \u001b[38;5;66;03m# This cause runtime error\u001b[39;00m\n\u001b[1;32m     23\u001b[0m plt\u001b[38;5;241m.\u001b[39mimshow(data, extent\u001b[38;5;241m=\u001b[39m(\u001b[38;5;241m0\u001b[39m, lx[\u001b[38;5;241m1\u001b[39m], \u001b[38;5;241m0\u001b[39m, lx[\u001b[38;5;241m0\u001b[39m]), cmap\u001b[38;5;241m=\u001b[39mcm\u001b[38;5;241m.\u001b[39mGreys)\n\u001b[1;32m     24\u001b[0m plt\u001b[38;5;241m.\u001b[39mcolorbar()\n",
      "\u001b[0;31mRuntimeError\u001b[0m: File: \"/home/yongdd/polymer/langevin-fts/src/pybind11/polymerfts_core.cpp\", line: 293, function <operator()>\n\tFile: \"/home/yongdd/polymer/langevin-fts/src/platforms/cpu/CpuComputationContinuous.cpp\", function <get_chain_propagator>\n\tFile: \"/home/yongdd/polymer/langevin-fts/src/platforms/cpu/CpuComputationContinuous.cpp\", line: 780, function <get_chain_propagator>\n\tn (50) must be in range [0, 0]"
     ]
    },
    {
     "data": {
      "image/png": "[encoded data removed]",
      "text/plain": [
       "<Figure size 576x288 with 1 Axes>"
      ]
     },
     "metadata": {
      "needs_background": "light"
     },
     "output_type": "display_data"
    }
   ],
   "source": [
    "import matplotlib.animation as animation\n",
    "\n",
    "# A-type chain propagators\n",
    "p,v,u=(0, 0, 1)\n",
    "\n",
    "plt.figure(figsize=(8, 4))\n",
    "plt.title('q^{0→1}(r,1)')\n",
    "plt.xlabel('y')\n",
    "plt.ylabel('x')\n",
    "data = np.reshape(solver.get_chain_propagator(p, v, u, 50), nx)\n",
    "plt.imshow(data, extent=(0, lx[1], 0, lx[0]), cmap=cm.Greys)  # , interpolation='nearest',\n",
    "plt.colorbar()\n",
    "plt.show()\n",
    "\n",
    "# B-type chain propagators\n",
    "p,v,u=(0, 0, 3)\n",
    "\n",
    "plt.figure(figsize=(8, 4))\n",
    "plt.title('q^{0→3}(r,1)')\n",
    "plt.xlabel('y')\n",
    "plt.ylabel('x')\n",
    "data = np.reshape(solver.get_chain_propagator(p, v, u, 50), nx) # This cause runtime error\n",
    "plt.imshow(data, extent=(0, lx[1], 0, lx[0]), cmap=cm.Greys)\n",
    "plt.colorbar()\n",
    "plt.show()"
   ]
  }
 ],
 "metadata": {
  "kernelspec": {
   "display_name": "Python 3",
   "language": "python",
   "name": "python3"
  },
  "language_info": {
   "codemirror_mode": {
    "name": "ipython",
    "version": 3
   },
   "file_extension": ".py",
   "mimetype": "text/x-python",
   "name": "python",
   "nbconvert_exporter": "python",
   "pygments_lexer": "ipython3",
   "version": "3.9.23"
  }
 },
 "nbformat": 4,
 "nbformat_minor": 5
}
